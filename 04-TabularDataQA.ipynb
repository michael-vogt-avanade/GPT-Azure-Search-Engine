{
  "cells": [
    {
      "cell_type": "markdown",
      "source": [
        "# Q&A against Tabular (Numerical) Data from a CSV file"
      ],
      "metadata": {},
      "id": "45b4b5a4-96b0-4935-b890-8eb1c3d678ad"
    },
    {
      "cell_type": "markdown",
      "source": [
        "To really have a Smart Search Engine or Virtual assistant that can answer any question about your corporate documents, this \"engine\" must understand tabular data, aka, sources with tables, rows and columns with numbers. \n",
        "This is a different problem that simply looking for the top most similar results.  The concept of indexing, bringing top results, embedding, doing a cosine semantic search and summarize an answer, doesn't really apply to this problem.\n",
        "We are dealing now with sources with Tables in which each row and column are related to each other, and in order to answer a question, all of the data is needed, not just top results.\n",
        "\n",
        "In this notebook, the goal is to show how to deal with this kind of use cases. To continue with our Covid-19 theme, we will be using an open dataset called [\"Covid Tracking Project\"](https://covidtracking.com/data/download). The COVID Tracking Project dataset is a  CSV file that provides the latest numbers on tests, confirmed cases, hospitalizations, and patient outcomes from every US state and territory (they stopped tracking on March 7 2021).\n",
        "\n",
        "Imagine that many documents on a data lake are tabular data, or that your use case is to ask questions in natural language to a LLM model and this model needs to get the context from a CSV file or even a SQL Database in order to answer the question. A GPT Smart Search Engine, must understand how to deal with this sources, understand the data and answer acoordingly."
      ],
      "metadata": {},
      "id": "9697d091-a0fb-4aac-9761-36dbfbebae29"
    },
    {
      "cell_type": "code",
      "source": [
        "# 2023Apr26 mikes copy of the four (4) MSFT Mondelez genAI POC notebooks...  tailored for Azure ML operation...\n",
        "import os\n",
        "import pandas as pd\n",
        "from langchain.llms import AzureOpenAI\n",
        "from langchain.chat_models import AzureChatOpenAI\n",
        "from langchain.agents import create_pandas_dataframe_agent\n",
        "from langchain.agents import create_csv_agent\n",
        "\n",
        "# Don't mess with this unless you really know what you are doing\n",
        "AZURE_OPENAI_API_VERSION = \"2023-03-15-preview\"\n",
        "\n",
        "# Change these below with your own services credentials\n",
        "AZURE_OPENAI_ENDPOINT = \"Enter your Azure OpenAI Endpoint ...\"\n",
        "AZURE_OPENAI_KEY = \"Enter your Azure OpenAI Key ...\""
      ],
      "outputs": [],
      "execution_count": 1,
      "metadata": {},
      "id": "4ccab2f5-f8d3-4eb5-b1a7-961388d33d3d"
    },
    {
      "cell_type": "code",
      "source": [
        "# Set the ENV variables that Langchain needs to connect to Azure OpenAI\n",
        "os.environ[\"OPENAI_API_BASE\"] = os.environ[\"AZURE_OPENAI_ENDPOINT\"] = AZURE_OPENAI_ENDPOINT\n",
        "os.environ[\"OPENAI_API_KEY\"] = os.environ[\"AZURE_OPENAI_API_KEY\"] = AZURE_OPENAI_API_KEY\n",
        "os.environ[\"OPENAI_API_VERSION\"] = os.environ[\"AZURE_OPENAI_API_VERSION\"] = AZURE_OPENAI_API_VERSION"
      ],
      "outputs": [],
      "execution_count": 2,
      "metadata": {},
      "id": "81a497a8-d2f4-40ef-bdd2-389c44c41a2b"
    },
    {
      "cell_type": "markdown",
      "source": [
        "## Download the dataset and load it into Pandas Dataframe"
      ],
      "metadata": {},
      "id": "dd23c284-a569-4e9f-9c77-62da216be92b"
    },
    {
      "cell_type": "code",
      "source": [
        "!wget https://covidtracking.com/data/download/all-states-history.csv -P ./data/"
      ],
      "outputs": [
        {
          "output_type": "stream",
          "name": "stdout",
          "text": "--2023-04-14 18:29:58--  https://covidtracking.com/data/download/all-states-history.csv\nResolving covidtracking.com (covidtracking.com)... 104.21.14.119, 172.67.133.195, 2606:4700:3036::ac43:85c3, ...\nConnecting to covidtracking.com (covidtracking.com)|104.21.14.119|:443... connected.\nHTTP request sent, awaiting response... 200 OK\nLength: unspecified [text/csv]\nSaving to: ‘./data/all-states-history.csv’\n\nall-states-history.     [ <=>                ]   2.61M  --.-KB/s    in 0.08s   \n\n2023-04-14 18:29:59 (32.4 MB/s) - ‘./data/all-states-history.csv’ saved [2738601]\n\n"
        }
      ],
      "execution_count": 6,
      "metadata": {},
      "id": "73bc931d-59d1-4fa7-876f-ce597a1ca153"
    },
    {
      "cell_type": "code",
      "source": [
        "file_url = \"./data/all-states-history.csv\"\n",
        "df = pd.read_csv(file_url).fillna(value = 0)\n",
        "print(\"Rows and Columns:\",df.shape)\n",
        "df.head()"
      ],
      "outputs": [
        {
          "output_type": "stream",
          "name": "stdout",
          "text": "Rows and Columns: (20780, 41)\n"
        },
        {
          "output_type": "execute_result",
          "execution_count": 7,
          "data": {
            "text/html": "<div>\n<style scoped>\n    .dataframe tbody tr th:only-of-type {\n        vertical-align: middle;\n    }\n\n    .dataframe tbody tr th {\n        vertical-align: top;\n    }\n\n    .dataframe thead th {\n        text-align: right;\n    }\n</style>\n<table border=\"1\" class=\"dataframe\">\n  <thead>\n    <tr style=\"text-align: right;\">\n      <th></th>\n      <th>date</th>\n      <th>state</th>\n      <th>death</th>\n      <th>deathConfirmed</th>\n      <th>deathIncrease</th>\n      <th>deathProbable</th>\n      <th>hospitalized</th>\n      <th>hospitalizedCumulative</th>\n      <th>hospitalizedCurrently</th>\n      <th>hospitalizedIncrease</th>\n      <th>...</th>\n      <th>totalTestResults</th>\n      <th>totalTestResultsIncrease</th>\n      <th>totalTestsAntibody</th>\n      <th>totalTestsAntigen</th>\n      <th>totalTestsPeopleAntibody</th>\n      <th>totalTestsPeopleAntigen</th>\n      <th>totalTestsPeopleViral</th>\n      <th>totalTestsPeopleViralIncrease</th>\n      <th>totalTestsViral</th>\n      <th>totalTestsViralIncrease</th>\n    </tr>\n  </thead>\n  <tbody>\n    <tr>\n      <th>0</th>\n      <td>2021-03-07</td>\n      <td>AK</td>\n      <td>305.0</td>\n      <td>0.0</td>\n      <td>0</td>\n      <td>0.0</td>\n      <td>1293.0</td>\n      <td>1293.0</td>\n      <td>33.0</td>\n      <td>0</td>\n      <td>...</td>\n      <td>1731628.0</td>\n      <td>0</td>\n      <td>0.0</td>\n      <td>0.0</td>\n      <td>0.0</td>\n      <td>0.0</td>\n      <td>0.0</td>\n      <td>0</td>\n      <td>1731628.0</td>\n      <td>0</td>\n    </tr>\n    <tr>\n      <th>1</th>\n      <td>2021-03-07</td>\n      <td>AL</td>\n      <td>10148.0</td>\n      <td>7963.0</td>\n      <td>-1</td>\n      <td>2185.0</td>\n      <td>45976.0</td>\n      <td>45976.0</td>\n      <td>494.0</td>\n      <td>0</td>\n      <td>...</td>\n      <td>2323788.0</td>\n      <td>2347</td>\n      <td>0.0</td>\n      <td>0.0</td>\n      <td>119757.0</td>\n      <td>0.0</td>\n      <td>2323788.0</td>\n      <td>2347</td>\n      <td>0.0</td>\n      <td>0</td>\n    </tr>\n    <tr>\n      <th>2</th>\n      <td>2021-03-07</td>\n      <td>AR</td>\n      <td>5319.0</td>\n      <td>4308.0</td>\n      <td>22</td>\n      <td>1011.0</td>\n      <td>14926.0</td>\n      <td>14926.0</td>\n      <td>335.0</td>\n      <td>11</td>\n      <td>...</td>\n      <td>2736442.0</td>\n      <td>3380</td>\n      <td>0.0</td>\n      <td>0.0</td>\n      <td>0.0</td>\n      <td>481311.0</td>\n      <td>0.0</td>\n      <td>0</td>\n      <td>2736442.0</td>\n      <td>3380</td>\n    </tr>\n    <tr>\n      <th>3</th>\n      <td>2021-03-07</td>\n      <td>AS</td>\n      <td>0.0</td>\n      <td>0.0</td>\n      <td>0</td>\n      <td>0.0</td>\n      <td>0.0</td>\n      <td>0.0</td>\n      <td>0.0</td>\n      <td>0</td>\n      <td>...</td>\n      <td>2140.0</td>\n      <td>0</td>\n      <td>0.0</td>\n      <td>0.0</td>\n      <td>0.0</td>\n      <td>0.0</td>\n      <td>0.0</td>\n      <td>0</td>\n      <td>2140.0</td>\n      <td>0</td>\n    </tr>\n    <tr>\n      <th>4</th>\n      <td>2021-03-07</td>\n      <td>AZ</td>\n      <td>16328.0</td>\n      <td>14403.0</td>\n      <td>5</td>\n      <td>1925.0</td>\n      <td>57907.0</td>\n      <td>57907.0</td>\n      <td>963.0</td>\n      <td>44</td>\n      <td>...</td>\n      <td>7908105.0</td>\n      <td>45110</td>\n      <td>580569.0</td>\n      <td>0.0</td>\n      <td>444089.0</td>\n      <td>0.0</td>\n      <td>3842945.0</td>\n      <td>14856</td>\n      <td>7908105.0</td>\n      <td>45110</td>\n    </tr>\n  </tbody>\n</table>\n<p>5 rows × 41 columns</p>\n</div>",
            "text/plain": "         date state    death  deathConfirmed  deathIncrease  deathProbable  \\\n0  2021-03-07    AK    305.0             0.0              0            0.0   \n1  2021-03-07    AL  10148.0          7963.0             -1         2185.0   \n2  2021-03-07    AR   5319.0          4308.0             22         1011.0   \n3  2021-03-07    AS      0.0             0.0              0            0.0   \n4  2021-03-07    AZ  16328.0         14403.0              5         1925.0   \n\n   hospitalized  hospitalizedCumulative  hospitalizedCurrently  \\\n0        1293.0                  1293.0                   33.0   \n1       45976.0                 45976.0                  494.0   \n2       14926.0                 14926.0                  335.0   \n3           0.0                     0.0                    0.0   \n4       57907.0                 57907.0                  963.0   \n\n   hospitalizedIncrease  ...  totalTestResults  totalTestResultsIncrease  \\\n0                     0  ...         1731628.0                         0   \n1                     0  ...         2323788.0                      2347   \n2                    11  ...         2736442.0                      3380   \n3                     0  ...            2140.0                         0   \n4                    44  ...         7908105.0                     45110   \n\n   totalTestsAntibody  totalTestsAntigen  totalTestsPeopleAntibody  \\\n0                 0.0                0.0                       0.0   \n1                 0.0                0.0                  119757.0   \n2                 0.0                0.0                       0.0   \n3                 0.0                0.0                       0.0   \n4            580569.0                0.0                  444089.0   \n\n   totalTestsPeopleAntigen  totalTestsPeopleViral  \\\n0                      0.0                    0.0   \n1                      0.0              2323788.0   \n2                 481311.0                    0.0   \n3                      0.0                    0.0   \n4                      0.0              3842945.0   \n\n   totalTestsPeopleViralIncrease  totalTestsViral  totalTestsViralIncrease  \n0                              0        1731628.0                        0  \n1                           2347              0.0                        0  \n2                              0        2736442.0                     3380  \n3                              0           2140.0                        0  \n4                          14856        7908105.0                    45110  \n\n[5 rows x 41 columns]"
          },
          "metadata": {}
        }
      ],
      "execution_count": 7,
      "metadata": {},
      "id": "54c0f7eb-0ec2-44aa-b02b-8dbe1b122b28"
    },
    {
      "cell_type": "code",
      "source": [
        "df.columns"
      ],
      "outputs": [
        {
          "output_type": "execute_result",
          "execution_count": 8,
          "data": {
            "text/plain": "Index(['date', 'state', 'death', 'deathConfirmed', 'deathIncrease',\n       'deathProbable', 'hospitalized', 'hospitalizedCumulative',\n       'hospitalizedCurrently', 'hospitalizedIncrease', 'inIcuCumulative',\n       'inIcuCurrently', 'negative', 'negativeIncrease',\n       'negativeTestsAntibody', 'negativeTestsPeopleAntibody',\n       'negativeTestsViral', 'onVentilatorCumulative', 'onVentilatorCurrently',\n       'positive', 'positiveCasesViral', 'positiveIncrease', 'positiveScore',\n       'positiveTestsAntibody', 'positiveTestsAntigen',\n       'positiveTestsPeopleAntibody', 'positiveTestsPeopleAntigen',\n       'positiveTestsViral', 'recovered', 'totalTestEncountersViral',\n       'totalTestEncountersViralIncrease', 'totalTestResults',\n       'totalTestResultsIncrease', 'totalTestsAntibody', 'totalTestsAntigen',\n       'totalTestsPeopleAntibody', 'totalTestsPeopleAntigen',\n       'totalTestsPeopleViral', 'totalTestsPeopleViralIncrease',\n       'totalTestsViral', 'totalTestsViralIncrease'],\n      dtype='object')"
          },
          "metadata": {}
        }
      ],
      "execution_count": 8,
      "metadata": {},
      "id": "d703e877-0a85-43c5-ab35-8ecbe72c44c8"
    },
    {
      "cell_type": "markdown",
      "source": [
        "## Load our LLM and create our MRKL Agent"
      ],
      "metadata": {},
      "id": "21f25d06-03c3-4f73-bb9a-5a43777d1bf5"
    },
    {
      "cell_type": "markdown",
      "source": [
        "The implementation of Agents is inspired by two papers: the [MRKL Systems](https://arxiv.org/abs/2205.00445) paper (pronounced ‘miracle’ 😉) and the [ReAct](https://arxiv.org/abs/2210.03629) paper.\n",
        "\n",
        "Agents are a way to leverage the ability of LLMs to understand and act on prompts. In essence, an Agent is an LLM that has been given a very clever initial prompt. The prompt tells the LLM to break down the process of answering a complex query into a sequence of steps that are resolved one at a time.\n",
        "\n",
        "Agents become really cool when we combine them with ‘experts’, introduced in the MRKL paper. Simple example: an Agent might not have the inherent capability to reliably perform mathematical calculations by itself. However, we can introduce an expert - in this case a calculator, an expert at mathematical calculations. Now, when we need to perform a calculation, the Agent can call in the expert rather than trying to predict the result itself. This is actually the concept behind [ChatGPT Pluggins](https://openai.com/blog/chatgpt-plugins).\n",
        "\n",
        "In our case, in order to solve the problem \"How do I ask questions to a tabular CSV file\", we need this REACT/MRKL approach, in which we need to instruct the LLM that it needs to use an 'expert/tool' in order to read/load/understand/interact with a CSV tabular file.\n",
        "\n",
        "OpenAI opened the world to a whole new concept. Libraries are being created fast and furious. We will be using [LangChain](https://docs.langchain.com/docs/) as our library to solve this problem, however there are others that we recommend: [HayStack](https://haystack.deepset.ai/) and [Semantic Kernel](https://learn.microsoft.com/en-us/semantic-kernel/whatissk)."
      ],
      "metadata": {},
      "id": "87d4c5dd-8d4b-4a7b-a108-99486582530d"
    },
    {
      "cell_type": "code",
      "source": [
        "# First we load our LLM: GPT-4 (you are welcome to try GPT-3.5-Turbo. \n",
        "# You will see that it does not have the cognitive capabilities to become a smart agent)\n",
        "\n",
        "llm = AzureChatOpenAI(deployment_name=\"gpt-4\", temperature=0, max_tokens=500)"
      ],
      "outputs": [],
      "execution_count": 9,
      "metadata": {},
      "id": "46238c2e-2eb4-4fc3-8472-b894380a5063"
    },
    {
      "cell_type": "code",
      "source": [
        "# Now we need our agent and our expert/tool.  \n",
        "# LangChain has created an out-of-the-box agents that we can use to solve our Q&A to CSV tabular data file problem. \n",
        "agent = create_csv_agent(llm, file_url, verbose=True)"
      ],
      "outputs": [],
      "execution_count": 10,
      "metadata": {},
      "id": "0b5a5c3f-41c7-47e9-84d4-6e4c068560d6"
    },
    {
      "cell_type": "code",
      "source": [
        "# Natural Language question (query) + a Suffix to format the answer the way we like\n",
        "preffix = 'First set the pandas display options to show all the columns, get the column names, then answer the question: '\n",
        "query_str = 'How may patients were hospitalized during July 2020 in Texas and to nationwide?'\n",
        "suffix = '. ALWAYS before giving the Final Answer, try another method. Then reflect on the answers of the two methods you did and ask yourself if it answers correctly the original question. If you are not sure, try another method. \\n If the runs does not give the same result, reflect and try again two more times until you have two runs that have the same result. If you still cannot arrive to a consistent result, say that you are not sure of the answer. But, if you are sure of the correct answer, create a beautiful and thorough response. DO NOT MAKE UP AN ANSWER OR USE PRIOR KNOWLEDGE, ONLY USE THE RESULTS OF THE CALCULATIONS YOU HAVE DONE. ALWAYS, as part of your final answer, explain how you got to the answer on a section that starts with: \"\\n\\nExplanation:\\n.\"'"
      ],
      "outputs": [],
      "execution_count": 29,
      "metadata": {},
      "id": "8e0f130f-855f-4844-9987-197f8f9675df"
    },
    {
      "cell_type": "markdown",
      "source": [
        "## Enjoy the response and the power of GPT-4 + REACT/MKRL approach"
      ],
      "metadata": {},
      "id": "7d0220e2-9b3f-467e-9843-7a27a09fd39b"
    },
    {
      "cell_type": "code",
      "source": [
        "# We are doing a for loop to retry N times. This is because: \n",
        "# 1) GPT-4 is still in preview and the API is being very throttled and \n",
        "# 2) Because the LLM not always gives the answer on the exact format the agent needs and hence cannot be parsed\n",
        "\n",
        "for i in range(5):\n",
        "    try:\n",
        "        response = agent.run(query_str + suffix) \n",
        "        break\n",
        "    except:\n",
        "        response = \"Error too many failed retries\"\n",
        "        continue  \n",
        "        \n",
        "print(response)"
      ],
      "outputs": [
        {
          "output_type": "stream",
          "name": "stdout",
          "text": "\n\n\u001b[1m> Entering new AgentExecutor chain...\u001b[0m\n\u001b[32;1m\u001b[1;3mThought: To find the number of patients hospitalized in Texas during July 2020, I need to filter the dataframe to only include rows with the 'state' column equal to 'TX' and the 'date' column within the range of July 2020. Then, I will sum the 'hospitalizedIncrease' column to get the total number of patients hospitalized in Texas during that time period.\n\nAction: python_repl_ast\nAction Input: df[(df['state'] == 'TX') & (df['date'] >= '2020-07-01') & (df['date'] <= '2020-07-31')]['hospitalizedIncrease'].sum()\u001b[0m\nObservation: \u001b[36;1m\u001b[1;3m0\u001b[0m\nThought:\u001b[32;1m\u001b[1;3mThe result of the first method is 0, which seems incorrect. I will try another method to verify the result.\n\nThought: I will first filter the dataframe to only include rows with the 'state' column equal to 'TX' and the 'date' column within the range of July 2020. Then, I will calculate the difference between the maximum and minimum 'hospitalizedCumulative' values to get the total number of patients hospitalized in Texas during that time period.\n\nAction: python_repl_ast\nAction Input: tx_july = df[(df['state'] == 'TX') & (df['date'] >= '2020-07-01') & (df['date'] <= '2020-07-31')]\u001b[0m\nObservation: \u001b[36;1m\u001b[1;3m\u001b[0m\nThought:\u001b[32;1m\u001b[1;3mNow I have the filtered dataframe for Texas in July 2020. Next, I will calculate the difference between the maximum and minimum 'hospitalizedCumulative' values.\n\nAction: python_repl_ast\nAction Input: tx_july['hospitalizedCumulative'].max() - tx_july['hospitalizedCumulative'].min()\u001b[0m\nObservation: \u001b[36;1m\u001b[1;3mnan\u001b[0m\nThought:\u001b[32;1m\u001b[1;3mThe result of the second method is NaN, which means there is missing data for the 'hospitalizedCumulative' column in the filtered dataframe. I will try another method to find the total number of patients hospitalized in Texas during July 2020.\n\nThought: I will group the original dataframe by 'state' and 'date', and then calculate the sum of the 'hospitalizedIncrease' column for each group. After that, I will filter the grouped dataframe to only include rows with the 'state' column equal to 'TX' and the 'date' column within the range of July 2020. Finally, I will sum the 'hospitalizedIncrease' column to get the total number of patients hospitalized in Texas during that time period.\n\nAction: python_repl_ast\nAction Input: state_date_group = df.groupby(['state', 'date'])['hospitalizedIncrease'].sum().reset_index()\u001b[0m\nObservation: \u001b[36;1m\u001b[1;3m\u001b[0m\nThought:\u001b[32;1m\u001b[1;3mNow I have the grouped dataframe with the sum of 'hospitalizedIncrease' for each state and date. Next, I will filter the grouped dataframe to only include rows with the 'state' column equal to 'TX' and the 'date' column within the range of July 2020.\n\nAction: python_repl_ast\nAction Input: tx_july_group = state_date_group[(state_date_group['state'] == 'TX') & (state_date_group['date'] >= '2020-07-01') & (state_date_group['date'] <= '2020-07-31')]\u001b[0m\nObservation: \u001b[36;1m\u001b[1;3m\u001b[0m\nThought:\u001b[32;1m\u001b[1;3mNow I have the filtered grouped dataframe for Texas in July 2020. Next, I will sum the 'hospitalizedIncrease' column to get the total number of patients hospitalized in Texas during that time period.\n\nAction: python_repl_ast\nAction Input: tx_july_group['hospitalizedIncrease'].sum()\u001b[0m\nObservation: \u001b[36;1m\u001b[1;3m0\u001b[0m\nThought:\u001b[32;1m\u001b[1;3mThe result of the third method is also 0, which matches the result of the first method. Therefore, I am confident in the answer.\n\nTo find the number of patients hospitalized nationwide during July 2020, I will filter the dataframe to only include rows with the 'date' column within the range of July 2020. Then, I will sum the 'hospitalizedIncrease' column to get the total number of patients hospitalized nationwide during that time period.\n\nAction: python_repl_ast\nAction Input: nationwide_july = df[(df['date'] >= '2020-07-01') & (df['date'] <= '2020-07-31')]\u001b[0m\nObservation: \u001b[36;1m\u001b[1;3m\u001b[0m\nThought:\u001b[32;1m\u001b[1;3mNow I have the filtered dataframe for nationwide in July 2020. Next, I will sum the 'hospitalizedIncrease' column to get the total number of patients hospitalized nationwide during that time period.\n\nAction: python_repl_ast\nAction Input: nationwide_july['hospitalizedIncrease'].sum()\u001b[0m\nObservation: \u001b[36;1m\u001b[1;3m63105\u001b[0m\nThought:\u001b[32;1m\u001b[1;3mThe result of the first method for nationwide is 63105. I will try another method to verify the result.\n\nThought: I will group the original dataframe by 'date', and then calculate the sum of the 'hospitalizedIncrease' column for each group. After that, I will filter the grouped dataframe to only include rows with the 'date' column within the range of July 2020. Finally, I will sum the 'hospitalizedIncrease' column to get the total number of patients hospitalized nationwide during that time period.\n\nAction: python_repl_ast\nAction Input: date_group = df.groupby(['date'])['hospitalizedIncrease'].sum().reset_index()\u001b[0m\nObservation: \u001b[36;1m\u001b[1;3m\u001b[0m\nThought:\u001b[32;1m\u001b[1;3mNow I have the grouped dataframe with the sum of 'hospitalizedIncrease' for each date. Next, I will filter the grouped dataframe to only include rows with the 'date' column within the range of July 2020.\n\nAction: python_repl_ast\nAction Input: nationwide_july_group = date_group[(date_group['date'] >= '2020-07-01') & (date_group['date'] <= '2020-07-31')]\u001b[0m\nObservation: \u001b[36;1m\u001b[1;3m\u001b[0m\nThought:\u001b[32;1m\u001b[1;3mNow I have the filtered grouped dataframe for nationwide in July 2020. Next, I will sum the 'hospitalizedIncrease' column to get the total number of patients hospitalized nationwide during that time period.\n\nAction: python_repl_ast\nAction Input: nationwide_july_group['hospitalizedIncrease'].sum()\u001b[0m\nObservation: \u001b[36;1m\u001b[1;3m63105\u001b[0m\nThought:\u001b[32;1m\u001b[1;3mThe result of the second method for nationwide is also 63105, which matches the result of the first method. Therefore, I am confident in the answer.\n\nFinal Answer: In Texas, there were 0 patients hospitalized during July 2020. Nationwide, there were 63,105 patients hospitalized during July 2020.\n\nExplanation: \nI used two different methods to calculate the number of patients hospitalized in Texas and nationwide during July 2020. For both Texas and nationwide, I first filtered the dataframe to only include rows within the date range of July 2020. Then, I summed the 'hospitalizedIncrease' column to get the total number of patients hospitalized during that time period. The results were consistent across both methods, with 0 patients hospitalized in Texas and 63,105 patients hospitalized nationwide during July 2020.\u001b[0m\n\n\u001b[1m> Finished chain.\u001b[0m\nIn Texas, there were 0 patients hospitalized during July 2020. Nationwide, there were 63,105 patients hospitalized during July 2020.\n\nExplanation: \nI used two different methods to calculate the number of patients hospitalized in Texas and nationwide during July 2020. For both Texas and nationwide, I first filtered the dataframe to only include rows within the date range of July 2020. Then, I summed the 'hospitalizedIncrease' column to get the total number of patients hospitalized during that time period. The results were consistent across both methods, with 0 patients hospitalized in Texas and 63,105 patients hospitalized nationwide during July 2020.\n"
        }
      ],
      "execution_count": 30,
      "metadata": {},
      "id": "d6eb9727-036f-4a43-a796-7702183fc57d"
    },
    {
      "cell_type": "markdown",
      "source": [
        "## Evaluation\n",
        "Let's see if the answer is correct"
      ],
      "metadata": {},
      "id": "f732d941-e206-445b-a52c-b454398afba4"
    },
    {
      "cell_type": "code",
      "source": [
        "#df['date'] = pd.to_datetime(df['date'])\n",
        "july_2020 = df[(df['date'] >= '2020-07-01') & (df['date'] <= '2020-07-31')]\n",
        "texas_hospitalized_july_2020 = july_2020[july_2020['state'] == 'TX']['hospitalizedIncrease'].sum()\n",
        "nationwide_hospitalized_july_2020 = july_2020['hospitalizedIncrease'].sum()"
      ],
      "outputs": [],
      "execution_count": 31,
      "metadata": {},
      "id": "42209997-aa2a-4b97-b94b-a203bc4c6096"
    },
    {
      "cell_type": "code",
      "source": [
        "print( \"TX:\",texas_hospitalized_july_2020,\"Nationwide:\",nationwide_hospitalized_july_2020)"
      ],
      "outputs": [
        {
          "output_type": "stream",
          "name": "stdout",
          "text": "TX: 0 Nationwide: 63105\n"
        }
      ],
      "execution_count": 32,
      "metadata": {},
      "id": "349c3020-3383-4ad3-83a4-07c1ead1207d"
    },
    {
      "cell_type": "markdown",
      "source": [
        "It is Correct!\n",
        "\n",
        "**Note**: Obviously, there were hospitalizations in Texas in July 2020 (Try asking ChatGPT), but this particular File, for some reason has 0 on the column \"hospitalizedIncrease\" for Texas in July 2020. This proves though that the model is NOT making up information or using prior knowledge, but instead using only the results of its calculation on this CSV file. That's what we need!"
      ],
      "metadata": {},
      "id": "49988cb5-719c-4180-8ac5-0afa44018b50"
    },
    {
      "cell_type": "markdown",
      "source": [
        "# Summary"
      ],
      "metadata": {},
      "id": "073913d5-321b-4c56-9c66-649266cf6280"
    },
    {
      "cell_type": "markdown",
      "source": [
        "So, we just solved our problem on how to ask questions in natural language to our Tabular data hosted on a CSV File.\n",
        "With this approach you can see then that it is NOT necessary to make a dump of a database data into a CSV file and index that on a Search Engine, you don't even need to use the above approach and deal with a CSV data dump file. With the Agents framework, the best engineering decision is to interact directly with the data source API without the need to replicate the data in order to ask questions to it. Remember, GPT-4 can do SQL very well. \n",
        "\n",
        "Just think about this: if GPT-4 can do the above, imagine what GPT-5/6/7/8 will be able to do.\n",
        "\n",
        "This is implemented in the App of this repo as well, where you will be able to upload any tabular CSV you like and ask questions to it"
      ],
      "metadata": {},
      "id": "41108384-c132-45fc-92e4-31dc1bcf00c0"
    },
    {
      "cell_type": "markdown",
      "source": [
        "# Reference\n",
        "\n",
        "- https://haystack.deepset.ai/blog/introducing-haystack-agents\n",
        "- https://python.langchain.com/en/latest/modules/agents/agents.html\n",
        "- https://tsmatz.wordpress.com/2023/03/07/react-with-openai-gpt-and-langchain/\n",
        "- https://medium.com/@meghanheintz/intro-to-langchain-llm-templates-and-agents-8793f30f1837"
      ],
      "metadata": {},
      "id": "69e074a0-4f46-40c7-9567-7058ba103f5b"
    },
    {
      "cell_type": "markdown",
      "source": [
        "# NEXT\n",
        "We can see that GPT-4 is powerful and can translate a natural language question into the right steps in python in order to query a CSV data loaded into a pandas dataframe. \n",
        "That's pretty amazing. However the question remains: **Do I need then to dump all the data from my original sources (Databases, ERP Systems, CRM Systems) in order to be searchable by a Smart Search Engine?**\n",
        "\n",
        "The next notebook 5 answers this question by implementing a Question->SQL process and get the information from data in a SQL Database, eliminating the need to dump it out."
      ],
      "metadata": {},
      "id": "88f769ab-db90-48f5-a6b9-60fc0a4a854f"
    },
    {
      "cell_type": "code",
      "source": [],
      "outputs": [],
      "execution_count": null,
      "metadata": {},
      "id": "879aeb79-fc49-4f3b-8a5c-e7758993e2d5"
    }
  ],
  "metadata": {
    "kernelspec": {
      "display_name": "Python 3.10 - SDK v2",
      "language": "python",
      "name": "python310-sdkv2"
    },
    "language_info": {
      "codemirror_mode": {
        "name": "ipython",
        "version": 3
      },
      "file_extension": ".py",
      "mimetype": "text/x-python",
      "name": "python",
      "nbconvert_exporter": "python",
      "pygments_lexer": "ipython3",
      "version": "3.10.9"
    },
    "microsoft": {
      "ms_spell_check": {
        "ms_spell_check_language": "en"
      }
    },
    "nteract": {
      "version": "nteract-front-end@1.0.0"
    }
  },
  "nbformat": 4,
  "nbformat_minor": 5
}