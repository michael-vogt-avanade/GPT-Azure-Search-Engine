{
  "cells": [
    {
      "cell_type": "markdown",
      "source": [
        "# Electrical Utility Industry Lineman's and Cableman's Service Reference\n",
        "\n",
        "**Load and Enrich multiple file types Azure Cognitive Search**\n",
        "\n",
        "In this Jupyter Notebook, we create and run enrichment steps to unlock searchable content in the specified Azure blob. It performs operations over mixed content in Azure Storage, such as images and application files, using a skillset that analyzes and extracts text information that becomes searchable in Azure Cognitive Search. \n",
        "\n",
        "_Tailored to index a mixed filed type ASA blob container prepared with focused content to support electrical utility linemen and cablemen, including product manuals, trouble shooting guides, vendor specifications, and safety.  _\n",
        "\n",
        "The reference sample can be found at [Tutorial: Use Python and AI to generate searchable content from Azure blobs](https://docs.microsoft.com/azure/search/cognitive-search-tutorial-blob-python).\n",
        "\n",
        "Although mostly PDF files are used here, this can be done at a much larger scale and Azure Cognitive Search supports a range of other file formats including: Microsoft Office (DOCX/DOC, XSLX/XLS, PPTX/PPT, MSG), HTML, XML, ZIP, and plain text files (including JSON).\n",
        "\n",
        "This notebook creates the following objects on your search service:\n",
        "\n",
        "+ search index\n",
        "+ data source\n",
        "+ skillset\n",
        "+ indexer\n",
        "\n",
        "This notebook calls the [Search REST APIs](https://docs.microsoft.com/rest/api/searchservice/), but you can also use the Azure.Search.Documents client library in the Azure SDK for Python to perform the same steps. See this [Python quickstart](https://docs.microsoft.com/azure/search/search-get-started-python) for details.\n",
        "\n",
        "To run this notebook, you should have already created the Azure services on README and edit app/credentials.py with your own values. Once you've done this, you can run all cells, but the query won't return results until the indexer is finished and the search index is loaded. \n",
        "\n",
        "We recommend running each step and making sure it completes before moving on.\n",
        "\n",
        "Reference:\n",
        "\n",
        "https://learn.microsoft.com/en-us/azure/search/cognitive-search-tutorial-blob\n",
        "\n",
        "https://github.com/Azure-Samples/azure-search-python-samples/blob/main/Tutorial-AI-Enrichment/PythonTutorial-AzureSearch-AIEnrichment.ipynb"
      ],
      "metadata": {}
    },
    {
      "cell_type": "markdown",
      "source": [
        "![cog-search](./images/Cog-Search-Enrich.png)"
      ],
      "metadata": {}
    },
    {
      "cell_type": "markdown",
      "source": [
        "**2023May10, original content courtesy of Microsoft MSFT accelerator...**"
      ],
      "metadata": {
        "nteract": {
          "transient": {
            "deleting": false
          }
        }
      }
    },
    {
      "cell_type": "markdown",
      "source": [],
      "metadata": {
        "nteract": {
          "transient": {
            "deleting": false
          }
        }
      }
    },
    {
      "cell_type": "code",
      "source": [
        "#2023May10 mike re/edits this Notebook 1 copy specifically for use with a single Electrical Utility equipment index.\n",
        "#2023Apr24 mike re/edits this notebook after moving entire notebook set to mark's shared RG and resources\n",
        "# 2023Apr17 mike's copy of this notebook...\n",
        "import os\n",
        "import json\n",
        "import requests\n",
        "\n",
        "# Set the Data source connection string. This is where the Arxiv's 9.8k PDFs are. \n",
        "DATASOURCE_CONNECTION_STRING = \"DefaultEndpointsProtocol=https;AccountName=asa2023oltivagenai01;AccountKey=ZjXKwAqAZqLxXyzmYKIuHnMjxn2yOdAQSAc7nwZ3AgMLgmivHy5MjNf7Fp0cs/fsVFTdgMNd/Lzk+AStWqBXJg==;EndpointSuffix=core.windows.net\"\n",
        "\n",
        "# will point to and index a single ASA blob container dedicated to electrial utility equipment...\n",
        "BLOB_CONTAINER_NAME = \"container-content-equipment\"\n",
        "\n",
        "# Don't mess with this unless you really know what you are doing\n",
        "AZURE_SEARCH_API_VERSION = '2021-04-30-Preview'\n",
        "\n",
        "# points to a new Azure Cog Search resource shared by Midwest Data AI genAI swat team...\n",
        "AZURE_SEARCH_ENDPOINT = \"https://azure-cog-search-z5lqkk3kjxs26.search.windows.net\"\n",
        "\n",
        "#\"shared\" Azure Cog Search....\n",
        "AZURE_SEARCH_KEY = \"8AgKRzmecRH3mbHUBMb7Q8hQzVWCQUtqkySix2BFg4AzSeBnSO5J\"\n",
        "\n",
        "#\"shared\" azure cog services...\n",
        "COG_SERVICES_NAME = \"cognitive-service-z5lqkk3kjxs26\"\n",
        "\n",
        "#\"shared\" cog services\n",
        "COG_SERVICES_KEY = \"5d899aae8bf54aeead7208bb1610a154\"\n"
      ],
      "outputs": [],
      "execution_count": 14,
      "metadata": {
        "gather": {
          "logged": 1684258361982
        }
      }
    },
    {
      "cell_type": "code",
      "source": [
        "# Define NEW names for the NEW data source, skillset, index and indexer\n",
        "# NOTE - index and indexer nams Must be unique, esp if built in a shared Cog Search resource where all indexes are available\n",
        "# to all users - reuse of an existing index/indexer name will cause appending new indexed content to existing, potentially\n",
        "# contaminating the contents with conflicting information...\n",
        "datasource_name = \"cogsrch-datasource-files-equipment\"\n",
        "skillset_name = \"cogsrch-skillset-files-equipment\"\n",
        "index_name = \"cogsrch-index-files-equipment\"\n",
        "indexer_name = \"cogsrch-indexer-files-equipment\""
      ],
      "outputs": [],
      "execution_count": 15,
      "metadata": {
        "gather": {
          "logged": 1684258413276
        }
      }
    },
    {
      "cell_type": "code",
      "source": [
        "# Setup the Payloads header\n",
        "headers = {'Content-Type': 'application/json','api-key': AZURE_SEARCH_KEY}\n",
        "params = {'api-version': AZURE_SEARCH_API_VERSION}"
      ],
      "outputs": [],
      "execution_count": 16,
      "metadata": {
        "gather": {
          "logged": 1684258417919
        }
      }
    },
    {
      "cell_type": "markdown",
      "source": [
        "## Create Data Source (Blob container with the electrical utility industry pdfs)"
      ],
      "metadata": {}
    },
    {
      "cell_type": "code",
      "source": [
        "# Create a data source\n",
        "# You should already have a blob container that contains the sample data, see app/credentials.py\n",
        "\n",
        "datasource_payload = {\n",
        "    \"name\": datasource_name,\n",
        "#    \"description\": \"Demo files to demonstrate cognitive search capabilities.\",\n",
        "# mike subs in a new description for the new file data source/index/indexer...\n",
        "    \"description\": \"New Demo electrical utility industry files to demonstrate focused cognitive search capabilities.\",\n",
        "    \"type\": \"azureblob\",\n",
        "    \"credentials\": {\n",
        "        \"connectionString\": DATASOURCE_CONNECTION_STRING\n",
        "    },\n",
        "    \"container\": {\n",
        "        \"name\": BLOB_CONTAINER_NAME\n",
        "    }\n",
        "}\n",
        "r = requests.put(AZURE_SEARCH_ENDPOINT + \"/datasources/\" + datasource_name,\n",
        "                 data=json.dumps(datasource_payload), headers=headers, params=params)\n",
        "print(r.status_code)\n",
        "print(r.ok)"
      ],
      "outputs": [
        {
          "output_type": "stream",
          "name": "stdout",
          "text": "204\nTrue\n"
        }
      ],
      "execution_count": 17,
      "metadata": {
        "gather": {
          "logged": 1684258477919
        }
      }
    },
    {
      "cell_type": "code",
      "source": [
        "# If you have a 403 code, probably you have a wrong endpoint or key, you can debug by uncomment this\n",
        "# r.text"
      ],
      "outputs": [],
      "execution_count": null,
      "metadata": {
        "gather": {
          "logged": 1683766080650
        }
      }
    },
    {
      "cell_type": "markdown",
      "source": [
        "## Create Skillset - OCR, Text Splitter, Language Detection, KeyPhrase extraction, Entity Recognition\n",
        "\n",
        "We need to create now the skillset. This is a set of steps in which we use many Cognitive Services to enrich the documents by extracting information, applying OCR, translating, etc.\n",
        "\n",
        "In the future, this will be augmented by Cog Services audio and video/audio speech extraction, allowing the recording of presentations and question & answer sessions whos content will then turned to indexable text.\n",
        "\n",
        "https://learn.microsoft.com/en-us/azure/search/cognitive-search-working-with-skillsets\n",
        "\n",
        "https://learn.microsoft.com/en-us/azure/search/cognitive-search-predefined-skills\n"
      ],
      "metadata": {}
    },
    {
      "cell_type": "code",
      "source": [
        "# Create a skillset\n",
        "skillset_payload = {\n",
        "    \"name\": skillset_name,\n",
        "    \"description\": \"Extract entities, detect language and extract key-phrases\",\n",
        "    \"skills\":\n",
        "    [\n",
        "        {\n",
        "            \"@odata.type\": \"#Microsoft.Skills.Vision.OcrSkill\",\n",
        "            \"description\": \"Extract text (plain and structured) from image.\",\n",
        "            \"context\": \"/document/normalized_images/*\",\n",
        "            \"defaultLanguageCode\": \"en\",\n",
        "            \"detectOrientation\": True,\n",
        "            \"inputs\": [\n",
        "                {\n",
        "                  \"name\": \"image\",\n",
        "                  \"source\": \"/document/normalized_images/*\"\n",
        "                }\n",
        "            ],\n",
        "                \"outputs\": [\n",
        "                {\n",
        "                  \"name\": \"text\",\n",
        "                  \"targetName\" : \"images_text\"\n",
        "                }\n",
        "            ]\n",
        "        },\n",
        "        {\n",
        "            \"@odata.type\": \"#Microsoft.Skills.Text.MergeSkill\",\n",
        "            \"description\": \"Create merged_text, which includes all the textual representation of each image inserted at the right location in the content field. This is useful for PDF and other file formats that supported embedded images.\",\n",
        "            \"context\": \"/document\",\n",
        "            \"insertPreTag\": \" \",\n",
        "            \"insertPostTag\": \" \",\n",
        "            \"inputs\": [\n",
        "                {\n",
        "                  \"name\":\"text\", \"source\": \"/document/content\"\n",
        "                },\n",
        "                {\n",
        "                  \"name\": \"itemsToInsert\", \"source\": \"/document/normalized_images/*/images_text\"\n",
        "                },\n",
        "                {\n",
        "                  \"name\":\"offsets\", \"source\": \"/document/normalized_images/*/contentOffset\"\n",
        "                }\n",
        "            ],\n",
        "            \"outputs\": [\n",
        "                {\n",
        "                  \"name\": \"mergedText\", \n",
        "                  \"targetName\" : \"merged_text\"\n",
        "                }\n",
        "            ]\n",
        "        },\n",
        "        {\n",
        "            \"@odata.type\": \"#Microsoft.Skills.Text.LanguageDetectionSkill\",\n",
        "            \"context\": \"/document\",\n",
        "            \"description\": \"If you have multilingual content, adding a language code is useful for filtering\",\n",
        "            \"inputs\": [\n",
        "                {\n",
        "                  \"name\": \"text\",\n",
        "                  \"source\": \"/document/content\"\n",
        "                }\n",
        "            ],\n",
        "            \"outputs\": [\n",
        "                {\n",
        "                  \"name\": \"languageCode\",\n",
        "                  \"targetName\": \"language\"\n",
        "                }\n",
        "            ]\n",
        "        },\n",
        "        {\n",
        "            \"@odata.type\": \"#Microsoft.Skills.Text.SplitSkill\",\n",
        "            \"context\": \"/document\",\n",
        "            \"textSplitMode\": \"pages\",\n",
        "            \"maximumPageLength\": 5000, # 5000 is default\n",
        "            \"defaultLanguageCode\": \"en\",\n",
        "            \"inputs\": [\n",
        "                {\n",
        "                    \"name\": \"text\",\n",
        "                    \"source\": \"/document/content\"\n",
        "                },\n",
        "                {\n",
        "                    \"name\": \"languageCode\",\n",
        "                    \"source\": \"/document/language\"\n",
        "                }\n",
        "            ],\n",
        "            \"outputs\": [\n",
        "                {\n",
        "                    \"name\": \"textItems\",\n",
        "                    \"targetName\": \"pages\"\n",
        "                }\n",
        "            ]\n",
        "        },\n",
        "        {\n",
        "            \"@odata.type\": \"#Microsoft.Skills.Text.KeyPhraseExtractionSkill\",\n",
        "            \"context\": \"/document/pages/*\",\n",
        "            \"maxKeyPhraseCount\": 2,\n",
        "            \"defaultLanguageCode\": \"en\",\n",
        "            \"inputs\": [\n",
        "                {\n",
        "                    \"name\": \"text\", \n",
        "                    \"source\": \"/document/pages/*\"\n",
        "                },\n",
        "                {\n",
        "                    \"name\": \"languageCode\",\n",
        "                    \"source\": \"/document/language\"\n",
        "                }\n",
        "            ],\n",
        "            \"outputs\": [\n",
        "                {\n",
        "                    \"name\": \"keyPhrases\",\n",
        "                    \"targetName\": \"keyPhrases\"\n",
        "                }\n",
        "            ]\n",
        "        },\n",
        "        {\n",
        "            \"@odata.type\": \"#Microsoft.Skills.Text.V3.EntityRecognitionSkill\",\n",
        "            \"context\": \"/document/pages/*\",\n",
        "            \"categories\": [\"Person\", \"Location\", \"Organization\", \"DateTime\", \"URL\", \"Email\"],\n",
        "            \"minimumPrecision\": 0.5, \n",
        "            \"defaultLanguageCode\": \"en\",\n",
        "            \"inputs\": [\n",
        "                {\n",
        "                    \"name\": \"text\", \n",
        "                    \"source\":\"/document/pages/*\"\n",
        "                },\n",
        "                {\n",
        "                    \"name\": \"languageCode\",\n",
        "                    \"source\": \"/document/language\"\n",
        "                }\n",
        "            ],\n",
        "            \"outputs\": [\n",
        "                {\n",
        "                    \"name\": \"persons\", \n",
        "                    \"targetName\": \"persons\"\n",
        "                },\n",
        "                {\n",
        "                    \"name\": \"locations\", \n",
        "                    \"targetName\": \"locations\"\n",
        "                },\n",
        "                {\n",
        "                    \"name\": \"organizations\", \n",
        "                    \"targetName\": \"organizations\"\n",
        "                },\n",
        "                {\n",
        "                    \"name\": \"dateTimes\", \n",
        "                    \"targetName\": \"dateTimes\"\n",
        "                },\n",
        "                {\n",
        "                    \"name\": \"urls\", \n",
        "                    \"targetName\": \"urls\"\n",
        "                },\n",
        "                {\n",
        "                    \"name\": \"emails\", \n",
        "                    \"targetName\": \"emails\"\n",
        "                }\n",
        "            ]\n",
        "        }\n",
        "    ],\n",
        "    \"cognitiveServices\": {\n",
        "        \"@odata.type\": \"#Microsoft.Azure.Search.CognitiveServicesByKey\",\n",
        "        \"description\": COG_SERVICES_NAME,\n",
        "        \"key\": COG_SERVICES_KEY\n",
        "    }\n",
        "}\n",
        "\n",
        "r = requests.put(AZURE_SEARCH_ENDPOINT + \"/skillsets/\" + skillset_name,\n",
        "                 data=json.dumps(skillset_payload), headers=headers, params=params)\n",
        "print(r.status_code)\n",
        "print(r.ok)"
      ],
      "outputs": [
        {
          "output_type": "stream",
          "name": "stdout",
          "text": "204\nTrue\n"
        }
      ],
      "execution_count": 18,
      "metadata": {
        "gather": {
          "logged": 1684258490413
        }
      }
    },
    {
      "cell_type": "markdown",
      "source": [
        "## Create Index"
      ],
      "metadata": {}
    },
    {
      "cell_type": "markdown",
      "source": [
        "In Azure Cognitive Search, a search index is your searchable content, available to the search engine for indexing, full text search, and filtered queries. An index is defined by a schema and saved to the search service. This content exists within your search service, apart from your primary data stores, which is necessary for the millisecond response times expected in modern applications. Except for specific indexing scenarios, the search service will never connect to or query your local data.\n",
        "\n",
        "The body of the request defines the schema of the search index. A fields collection requires one field to be designated as the key. For blob type, this field is often the \"metadata_storage_path\" that uniquely identifies each file in the container.\n",
        "\n",
        "Reference:\n",
        "\n",
        "https://learn.microsoft.com/en-us/azure/search/search-what-is-an-index"
      ],
      "metadata": {}
    },
    {
      "cell_type": "code",
      "source": [
        "# Create an index\n",
        "# Queries operate over the searchable fields and filterable fields in the index\n",
        "# mike and mark agree, THIS set of fields controls MUCH of the content indexed... these fields should be chosen with care after\n",
        "# a healthy period of SME interrogation associated with each data source to be indexed.. much could be learned from the study\n",
        "# of past library searches performed by the customers' departments... to build out a detailed list of fields for the index schema...\n",
        "# otherwise, 'keyPhrases' is about the only generic search field responsible for capturing ALL non-named entities from any complex\n",
        "# data source....   ;-(   \n",
        "index_payload = {\n",
        "    \"name\": index_name,\n",
        "    \"fields\": [\n",
        "        {\"name\": \"id\", \"type\": \"Edm.String\", \"key\": \"true\", \"searchable\": \"false\", \"retrievable\": \"true\", \"sortable\": \"false\", \"filterable\": \"false\",\"facetable\": \"false\"},\n",
        "        {\"name\": \"title\", \"type\": \"Edm.String\", \"searchable\": \"true\", \"retrievable\": \"true\", \"facetable\": \"false\", \"filterable\": \"true\", \"sortable\": \"false\"},\n",
        "        {\"name\": \"content\", \"type\": \"Edm.String\", \"searchable\": \"true\", \"retrievable\": \"true\", \"sortable\": \"false\", \"filterable\": \"false\",\"facetable\": \"false\"},\n",
        "        {\"name\": \"language\", \"type\": \"Edm.String\", \"searchable\": \"false\", \"retrievable\": \"true\", \"sortable\": \"true\", \"filterable\": \"true\", \"facetable\": \"true\"},\n",
        "        {\"name\": \"pages\",\"type\": \"Collection(Edm.String)\", \"searchable\": \"false\", \"retrievable\": \"true\", \"sortable\": \"false\", \"filterable\": \"false\", \"facetable\": \"false\"},\n",
        "        {\"name\": \"images_text\", \"type\": \"Collection(Edm.String)\", \"searchable\": \"true\", \"retrievable\": \"true\", \"sortable\": \"false\", \"filterable\": \"false\", \"facetable\": \"false\"},\n",
        "        {\"name\": \"keyPhrases\", \"type\": \"Collection(Edm.String)\", \"searchable\": \"true\", \"retrievable\": \"true\", \"sortable\": \"false\", \"filterable\": \"true\", \"facetable\": \"true\"},\n",
        "        {\"name\": \"persons\", \"type\": \"Collection(Edm.String)\", \"searchable\": \"true\", \"retrievable\": \"true\", \"sortable\": \"false\", \"filterable\": \"false\", \"facetable\": \"false\"},\n",
        "        {\"name\": \"locations\", \"type\": \"Collection(Edm.String)\", \"searchable\": \"true\", \"retrievable\": \"true\", \"sortable\": \"false\", \"filterable\": \"true\", \"facetable\": \"true\"},\n",
        "        {\"name\": \"organizations\", \"type\": \"Collection(Edm.String)\", \"searchable\": \"true\", \"retrievable\": \"true\", \"sortable\": \"false\", \"filterable\": \"true\", \"facetable\": \"true\"},\n",
        "        {\"name\": \"dateTimes\", \"type\": \"Collection(Edm.String)\", \"searchable\": \"true\", \"retrievable\": \"true\", \"sortable\": \"false\", \"filterable\": \"false\", \"facetable\": \"false\"},\n",
        "        {\"name\": \"urls\", \"type\": \"Collection(Edm.String)\", \"searchable\": \"false\", \"retrievable\": \"true\", \"sortable\": \"false\", \"filterable\": \"false\", \"facetable\": \"false\"},\n",
        "        {\"name\": \"emails\", \"type\": \"Collection(Edm.String)\", \"searchable\": \"true\", \"retrievable\": \"true\", \"sortable\": \"false\", \"filterable\": \"true\", \"facetable\": \"false\"},\n",
        "        {\"name\": \"metadata_storage_name\", \"type\": \"Edm.String\", \"searchable\": \"true\", \"retrievable\": \"true\", \"sortable\": \"false\", \"filterable\": \"false\", \"facetable\": \"false\"},\n",
        "        {\"name\": \"metadata_storage_path\", \"type\": \"Edm.String\", \"searchable\": \"true\", \"retrievable\": \"true\", \"sortable\": \"false\", \"filterable\": \"false\", \"facetable\": \"false\"}\n",
        "    ],\n",
        "    \"semantic\": {\n",
        "      \"configurations\": [\n",
        "        {\n",
        "          \"name\": \"my-semantic-config\",\n",
        "          \"prioritizedFields\": {\n",
        "            \"prioritizedContentFields\": [\n",
        "                {\n",
        "                    \"fieldName\": \"content\"\n",
        "                }\n",
        "                ]\n",
        "          }\n",
        "        }\n",
        "      ]\n",
        "    }\n",
        "}\n",
        "\n",
        "r = requests.put(AZURE_SEARCH_ENDPOINT + \"/indexes/\" + index_name,\n",
        "                 data=json.dumps(index_payload), headers=headers, params=params)\n",
        "print(r.status_code)\n",
        "print(r.ok)"
      ],
      "outputs": [
        {
          "output_type": "stream",
          "name": "stdout",
          "text": "204\nTrue\n"
        }
      ],
      "execution_count": 19,
      "metadata": {
        "gather": {
          "logged": 1684258661756
        }
      }
    },
    {
      "cell_type": "markdown",
      "source": [
        "## Create and Run the Indexer - (runs the pipeline)\n",
        "This process takes about 120 mins to load all the Arxiv CS pds"
      ],
      "metadata": {}
    },
    {
      "cell_type": "markdown",
      "source": [
        "The three components you have created thus far (data source, skillset, index) are inputs to an indexer. Creating the indexer on Azure Cognitive Search is the event that puts the entire pipeline into motion."
      ],
      "metadata": {}
    },
    {
      "cell_type": "code",
      "source": [
        "# Create an indexer\n",
        "indexer_payload = {\n",
        "    \"name\": indexer_name,\n",
        "    \"dataSourceName\": datasource_name,\n",
        "    \"targetIndexName\": index_name,\n",
        "    \"skillsetName\": skillset_name,\n",
        "    \"schedule\" : { \"interval\" : \"PT2H\"}, # How often do you want to check for new content in the data source\n",
        "    \"fieldMappings\": [\n",
        "        {\n",
        "          \"sourceFieldName\" : \"metadata_storage_path\",\n",
        "          \"targetFieldName\" : \"id\",\n",
        "          \"mappingFunction\" : { \"name\" : \"base64Encode\" }\n",
        "        },\n",
        "        {\n",
        "          \"sourceFieldName\" : \"metadata_title\",\n",
        "          \"targetFieldName\" : \"title\"\n",
        "        }\n",
        "    ],\n",
        "    \"outputFieldMappings\":\n",
        "    [\n",
        "        {\n",
        "            \"sourceFieldName\": \"/document/content\",\n",
        "            \"targetFieldName\": \"content\"\n",
        "        },\n",
        "        {\n",
        "            \"sourceFieldName\": \"/document/pages/*\",\n",
        "            \"targetFieldName\": \"pages\"\n",
        "        },\n",
        "        {\n",
        "            \"sourceFieldName\" : \"/document/normalized_images/*/images_text\",\n",
        "            \"targetFieldName\" : \"images_text\"\n",
        "        },\n",
        "        {\n",
        "            \"sourceFieldName\": \"/document/language\",\n",
        "            \"targetFieldName\": \"language\"\n",
        "        },\n",
        "        {\n",
        "            \"sourceFieldName\": \"/document/pages/*/keyPhrases/*\",\n",
        "            \"targetFieldName\": \"keyPhrases\"\n",
        "        },\n",
        "        {\n",
        "          \"sourceFieldName\" : \"/document/pages/*/persons/*\", \n",
        "          \"targetFieldName\" : \"persons\"\n",
        "        },\n",
        "        {\n",
        "          \"sourceFieldName\" : \"/document/pages/*/locations/*\", \n",
        "          \"targetFieldName\" : \"locations\"\n",
        "        },\n",
        "        {\n",
        "            \"sourceFieldName\": \"/document/pages/*/organizations/*\",\n",
        "            \"targetFieldName\": \"organizations\"\n",
        "        },\n",
        "        {\n",
        "            \"sourceFieldName\": \"/document/pages/*/dateTimes/*\",\n",
        "            \"targetFieldName\": \"dateTimes\"\n",
        "        },\n",
        "        {\n",
        "            \"sourceFieldName\": \"/document/pages/*/urls/*\",\n",
        "            \"targetFieldName\": \"urls\"\n",
        "        },\n",
        "        {\n",
        "            \"sourceFieldName\": \"/document/pages/*/emails/*\",\n",
        "            \"targetFieldName\": \"emails\"\n",
        "        }\n",
        "    ],\n",
        "    \"parameters\":\n",
        "    {\n",
        "        \"maxFailedItems\": -1,\n",
        "        \"maxFailedItemsPerBatch\": -1,\n",
        "        \"configuration\":\n",
        "        {\n",
        "            \"dataToExtract\": \"contentAndMetadata\",\n",
        "            \"imageAction\": \"generateNormalizedImages\"\n",
        "        }\n",
        "    }\n",
        "}\n",
        "\n",
        "r = requests.put(AZURE_SEARCH_ENDPOINT + \"/indexers/\" + indexer_name,\n",
        "                 data=json.dumps(indexer_payload), headers=headers, params=params)\n",
        "print(r.status_code)\n",
        "print(r.ok)"
      ],
      "outputs": [],
      "execution_count": 20,
      "metadata": {
        "gather": {
          "logged": 1684251573716
        }
      }
    },
    {
      "cell_type": "code",
      "source": [
        "# Optionally, get indexer status to confirm that it's running\n",
        "r = requests.get(AZURE_SEARCH_ENDPOINT + \"/indexers/\" + indexer_name +\n",
        "                 \"/status\", headers=headers, params=params)\n",
        "# pprint(json.dumps(r.json(), indent=1))\n",
        "print(r.status_code)\n",
        "print(\"Status:\",r.json().get('lastResult').get('status'))\n",
        "print(\"Items Processed:\",r.json().get('lastResult').get('itemsProcessed'))\n",
        "print(r.ok)"
      ],
      "outputs": [],
      "execution_count": null,
      "metadata": {
        "tags": [],
        "gather": {
          "logged": 1684257905808
        }
      }
    },
    {
      "cell_type": "markdown",
      "source": [
        "**When the indexer finishes running we will have a basis of ~350 utility industry documents indexed in our Search Engine!.**"
      ],
      "metadata": {}
    },
    {
      "cell_type": "markdown",
      "source": [
        "# Reference\n",
        "\n",
        "- https://github.com/Azure/azure-sdk-for-python/tree/main/sdk/search/azure-search-documents/samples\n",
        "- https://learn.microsoft.com/en-us/azure/search/search-get-started-python\n",
        "- https://github.com/Azure-Samples/azure-search-python-samples/blob/main/Tutorial-AI-Enrichment/PythonTutorial-AzureSearch-AIEnrichment.ipynb"
      ],
      "metadata": {}
    },
    {
      "cell_type": "markdown",
      "source": [
        "# NEXT\n",
        "Move on to the prep and launching of a demo web service page to host a Q&A chatGPT session..."
      ],
      "metadata": {}
    }
  ],
  "metadata": {
    "kernelspec": {
      "name": "envsmartsearch01",
      "language": "python",
      "display_name": "(envSmartSearch01)"
    },
    "language_info": {
      "name": "python",
      "version": "3.11.3",
      "mimetype": "text/x-python",
      "codemirror_mode": {
        "name": "ipython",
        "version": 3
      },
      "pygments_lexer": "ipython3",
      "nbconvert_exporter": "python",
      "file_extension": ".py"
    },
    "vscode": {
      "interpreter": {
        "hash": "9ff083f0c83558f9261023d47a77b9b3eb892c62cdbe066d046abcad1a5edb5c"
      }
    },
    "microsoft": {
      "ms_spell_check": {
        "ms_spell_check_language": "en"
      },
      "host": {
        "AzureML": {
          "notebookHasBeenCompleted": true
        }
      }
    },
    "kernel_info": {
      "name": "envsmartsearch01"
    },
    "nteract": {
      "version": "nteract-front-end@1.0.0"
    }
  },
  "nbformat": 4,
  "nbformat_minor": 4
}