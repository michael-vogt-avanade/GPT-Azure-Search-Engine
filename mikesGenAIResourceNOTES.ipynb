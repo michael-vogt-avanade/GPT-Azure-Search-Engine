{
  "cells": [
    {
      "cell_type": "markdown",
      "source": [
        "**2023May10** mike updates this after mike and mark create new 'generic' RG and all supporting resources...\r\n",
        "new resources include\r\n",
        "\r\n",
        "**RG** rg-2023-OLTIVA-GenAI-01\r\n",
        "\r\n",
        "**AML** aml-2023-OLTIVA-GenAI-01\r\n",
        "\r\n",
        "**AML Compute** (for mike - compute-CD11v2-mcv01  for mark _____________)\r\n",
        "\r\n",
        "**Subscription** 84f4ee99-f6fe-4798-bea8-fc0273e1e08a\r\n",
        "\r\n",
        "\r\n",
        "**ASA** asa2023oltivagenai01, Access key ZjXKwAqAZqLxXyzmYKIuHnMjxn2yOdAQSAc7nwZ3AgMLgmivHy5MjNf7Fp0cs/fsVFTdgMNd/Lzk+AStWqBXJg==\r\n",
        "\r\n",
        "DATASOURCE_CONNECTION_STRING = \"DefaultEndpointsProtocol=https;AccountName=asa2023oltivagenai01;AccountKey=ZjXKwAqAZqLxXyzmYKIuHnMjxn2yOdAQSAc7nwZ3AgMLgmivHy5MjNf7Fp0cs/fsVFTdgMNd/Lzk+AStWqBXJg==;EndpointSuffix=core.windows.net\"\r\n",
        "\r\n",
        "Container for DTE/utilities industry interest container-content-equipment\r\n",
        "\r\n",
        "BLOB_CONTAINER_NAME = \"container-content-equipment\"\r\n",
        "\r\n",
        "\r\n",
        "AZURE_SEARCH_ENDPOINT = \"https://azure-cog-search-z5lqkk3kjxs26.search.windows.net\"\r\n",
        "\r\n",
        "AZURE_SEARCH_KEY = \"8AgKRzmecRH3mbHUBMb7Q8hQzVWCQUtqkySix2BFg4AzSeBnSO5J\"\r\n",
        "\r\n",
        "\r\n",
        "COG_SERVICES_NAME = \"cognitive-service-z5lqkk3kjxs26\"\r\n",
        "\r\n",
        "COG_SERVICES_KEY = \"5d899aae8bf54aeead7208bb1610a154\"\r\n",
        "\r\n",
        "AZURE_OPENAI_ENDPOINT=\"https://oai-2023-oltiva-genai-01.openai.azure.com/\"\r\n",
        "\r\n",
        "AZURE_OPENAI_API_KEY=\"75b26b0016ce4252b0c34c19c76631f5\"\r\n",
        "\r\n",
        "\r\n",
        "\r\n"
      ],
      "metadata": {
        "nteract": {
          "transient": {
            "deleting": false
          }
        }
      }
    },
    {
      "cell_type": "markdown",
      "source": [],
      "metadata": {
        "nteract": {
          "transient": {
            "deleting": false
          }
        }
      }
    },
    {
      "cell_type": "code",
      "source": [],
      "outputs": [],
      "execution_count": null,
      "metadata": {}
    }
  ],
  "metadata": {
    "kernelspec": {
      "name": "python310-sdkv2",
      "language": "python",
      "display_name": "Python 3.10 - SDK v2"
    },
    "language_info": {
      "name": "python",
      "version": "3.10.10",
      "mimetype": "text/x-python",
      "codemirror_mode": {
        "name": "ipython",
        "version": 3
      },
      "pygments_lexer": "ipython3",
      "nbconvert_exporter": "python",
      "file_extension": ".py"
    },
    "microsoft": {
      "ms_spell_check": {
        "ms_spell_check_language": "en"
      }
    },
    "kernel_info": {
      "name": "python310-sdkv2"
    },
    "nteract": {
      "version": "nteract-front-end@1.0.0"
    }
  },
  "nbformat": 4,
  "nbformat_minor": 2
}